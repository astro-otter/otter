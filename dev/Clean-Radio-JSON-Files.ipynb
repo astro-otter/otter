{
 "cells": [
  {
   "cell_type": "code",
   "execution_count": 17,
   "id": "66b4ab4d-bd4e-48ea-8227-d17b00f45cfb",
   "metadata": {
    "tags": []
   },
   "outputs": [],
   "source": [
    "import json\n",
    "import glob\n",
    "from copy import deepcopy\n",
    "import uuid\n",
    "import numpy as np"
   ]
  },
  {
   "cell_type": "code",
   "execution_count": 18,
   "id": "25f3405a-dbaa-4519-8135-711dc8f73c90",
   "metadata": {
    "tags": []
   },
   "outputs": [],
   "source": []
  },
  {
   "cell_type": "code",
   "execution_count": 51,
   "id": "a2db9107-a1d0-42a2-aa83-a25d5b40bcc2",
   "metadata": {
    "tags": []
   },
   "outputs": [],
   "source": [
    "jsonpath = '/home/nfranz/otter/data/base/'\n",
    "jsons = glob.glob(jsonpath+'*')\n",
    "\n",
    "for j in jsons:\n",
    "    with open(j, 'r') as s:\n",
    "        data = json.load(s)[0]\n",
    "        \n",
    "    newps = []\n",
    "    for p in data['photometry']['radio']:\n",
    "        p['uuid'] = str(uuid.uuid4())\n",
    "        pnew = deepcopy(p)\n",
    "        \n",
    "        del pnew['uuid']\n",
    "        del pnew['F_mJy']\n",
    "        \n",
    "        pnew['computed'] = True\n",
    "        pnew['magnitude'] = 22.5 - 2.5*np.log10(p['F_mJy'])\n",
    "        pnew['source'] = p['uuid']\n",
    "        \n",
    "        newps.append(pnew)\n",
    "        \n",
    "    data['photometry']['radio'] += newps\n",
    "    \n",
    "    out = json.dumps(data, indent=4)\n",
    "    out = '[' + out\n",
    "    out += ']'\n",
    "    #print(out)\n",
    "    with open(j, 'w') as outfile:\n",
    "        outfile.write(out)"
   ]
  },
  {
   "cell_type": "code",
   "execution_count": null,
   "id": "fad8af75-f85c-4778-9082-0ee71d27826b",
   "metadata": {},
   "outputs": [],
   "source": []
  }
 ],
 "metadata": {
  "kernelspec": {
   "display_name": "Python 3 (ipykernel)",
   "language": "python",
   "name": "python3"
  },
  "language_info": {
   "codemirror_mode": {
    "name": "ipython",
    "version": 3
   },
   "file_extension": ".py",
   "mimetype": "text/x-python",
   "name": "python",
   "nbconvert_exporter": "python",
   "pygments_lexer": "ipython3",
   "version": "3.10.12"
  }
 },
 "nbformat": 4,
 "nbformat_minor": 5
}
