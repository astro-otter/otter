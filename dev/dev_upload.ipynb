{
 "cells": [
  {
   "cell_type": "code",
   "execution_count": 1,
   "id": "0ecd6949-72d9-40ae-969c-0b0234dc4d6c",
   "metadata": {},
   "outputs": [],
   "source": [
    "from zipfile import ZipFile\n",
    "import os\n",
    "import pandas as pd\n",
    "from otter import Otter\n",
    "from astropy.coordinates import SkyCoord\n",
    "import astropy.units as u"
   ]
  },
  {
   "cell_type": "code",
   "execution_count": 2,
   "id": "154a5c04-6a58-4247-b909-f2d2a90302aa",
   "metadata": {},
   "outputs": [],
   "source": [
    "zipfile = os.path.join(os.path.dirname(os.getcwd()), 'data', 'test-zip.zip')\n",
    "datadir = os.path.join(os.path.dirname(os.getcwd()), 'data')\n",
    "datapath = os.path.join(datadir, os.path.basename(zipfile).replace('.zip', ''))\n",
    "\n",
    "with ZipFile(zipfile) as z:\n",
    "    z.extractall(datadir)"
   ]
  },
  {
   "cell_type": "code",
   "execution_count": 3,
   "id": "e210b16b-1826-4ab3-9f4a-f293a83f1686",
   "metadata": {},
   "outputs": [
    {
     "name": "stdout",
     "output_type": "stream",
     "text": [
      "/home/nfranz/otter/data/test-zip/meta.csv\n"
     ]
    }
   ],
   "source": [
    "# read in the meta file\n",
    "metapath = os.path.join(datapath, 'meta.csv')\n",
    "print(metapath)\n",
    "if not os.path.exists(metapath):\n",
    "    raise ValueError('meta.csv not found, can not upload this data!')\n",
    "df = pd.read_csv(metapath)"
   ]
  },
  {
   "cell_type": "code",
   "execution_count": 4,
   "id": "99764435-9d8b-4b74-8246-9e4cf3e371bb",
   "metadata": {},
   "outputs": [],
   "source": [
    "db = Otter(username='admin@otter', password='insecure')"
   ]
  },
  {
   "cell_type": "code",
   "execution_count": 5,
   "id": "b242f2b9-75a0-450b-86e2-c2016440e428",
   "metadata": {
    "tags": []
   },
   "outputs": [
    {
     "name": "stdout",
     "output_type": "stream",
     "text": [
      "Adding this as a new object...\n"
     ]
    },
    {
     "name": "stderr",
     "output_type": "stream",
     "text": [
      "/home/nfranz/otter/py/otter/otter.py:446: FutureWarning:\n",
      "\n",
      "In a future version of pandas, a length 1 tuple will be returned when iterating over a groupby with a grouper equal to a list of length 1. Don't supply a list with a single grouper to avoid this warning.\n",
      "\n"
     ]
    }
   ],
   "source": [
    "db.upload(zipfile)"
   ]
  },
  {
   "cell_type": "code",
   "execution_count": 20,
   "id": "c75c8e15-351d-4ece-8861-1d4b6eb88941",
   "metadata": {
    "tags": []
   },
   "outputs": [
    {
     "data": {
      "text/plain": [
       "1.4454397707459234e-20"
      ]
     },
     "execution_count": 20,
     "metadata": {},
     "output_type": "execute_result"
    }
   ],
   "source": [
    "1*u.Unit('mag(AB)').to(u.erg/u.cm**2/u.s/u.Hz)"
   ]
  },
  {
   "cell_type": "code",
   "execution_count": 22,
   "id": "229c5121-6ccb-4c77-89f0-77ce4efa4e88",
   "metadata": {
    "tags": []
   },
   "outputs": [
    {
     "data": {
      "text/latex": [
       "$\\mathrm{mag}$$\\mathrm{\\left( \\mathrm{AB} \\right)}$"
      ],
      "text/plain": [
       "Unit(\"mag(AB)\")"
      ]
     },
     "execution_count": 22,
     "metadata": {},
     "output_type": "execute_result"
    }
   ],
   "source": [
    "(1*u.Unit('mag(AB)')).unit"
   ]
  },
  {
   "cell_type": "code",
   "execution_count": null,
   "id": "f0690b1f-e52a-4d2d-bad7-272b7e67ee54",
   "metadata": {},
   "outputs": [],
   "source": []
  }
 ],
 "metadata": {
  "kernelspec": {
   "display_name": "base",
   "language": "python",
   "name": "base"
  },
  "language_info": {
   "codemirror_mode": {
    "name": "ipython",
    "version": 3
   },
   "file_extension": ".py",
   "mimetype": "text/x-python",
   "name": "python",
   "nbconvert_exporter": "python",
   "pygments_lexer": "ipython3",
   "version": "3.11.4"
  }
 },
 "nbformat": 4,
 "nbformat_minor": 5
}
