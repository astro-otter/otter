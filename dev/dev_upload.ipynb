{
 "cells": [
  {
   "cell_type": "code",
   "execution_count": 9,
   "id": "0ecd6949-72d9-40ae-969c-0b0234dc4d6c",
   "metadata": {},
   "outputs": [],
   "source": [
    "from zipfile import ZipFile\n",
    "import os\n",
    "import pandas as pd"
   ]
  },
  {
   "cell_type": "code",
   "execution_count": 17,
   "id": "154a5c04-6a58-4247-b909-f2d2a90302aa",
   "metadata": {},
   "outputs": [],
   "source": [
    "zipfile = os.path.join(os.path.dirname(os.getcwd()), 'data', 'test-zip.zip')\n",
    "datadir = os.path.join(os.path.dirname(os.getcwd()), 'data')\n",
    "datapath = os.path.join(datadir, os.path.basename(zipfile).replace('.zip', ''))\n",
    "\n",
    "with ZipFile(zipfile) as z:\n",
    "    z.extractall(datadir)"
   ]
  },
  {
   "cell_type": "code",
   "execution_count": 18,
   "id": "e210b16b-1826-4ab3-9f4a-f293a83f1686",
   "metadata": {},
   "outputs": [
    {
     "name": "stdout",
     "output_type": "stream",
     "text": [
      "/home/nfranz/otter/data/test-zip/meta.csv\n"
     ]
    },
    {
     "data": {
      "text/html": [
       "<div>\n",
       "<style scoped>\n",
       "    .dataframe tbody tr th:only-of-type {\n",
       "        vertical-align: middle;\n",
       "    }\n",
       "\n",
       "    .dataframe tbody tr th {\n",
       "        vertical-align: top;\n",
       "    }\n",
       "\n",
       "    .dataframe thead th {\n",
       "        text-align: right;\n",
       "    }\n",
       "</style>\n",
       "<table border=\"1\" class=\"dataframe\">\n",
       "  <thead>\n",
       "    <tr style=\"text-align: right;\">\n",
       "      <th></th>\n",
       "      <th>name</th>\n",
       "      <th>ra</th>\n",
       "      <th>dec</th>\n",
       "      <th>ra_units</th>\n",
       "      <th>dec_units</th>\n",
       "      <th>reference</th>\n",
       "      <th>phot_path</th>\n",
       "    </tr>\n",
       "  </thead>\n",
       "  <tbody>\n",
       "    <tr>\n",
       "      <th>0</th>\n",
       "      <td>2022xkq</td>\n",
       "      <td>76.348792</td>\n",
       "      <td>-11.88225</td>\n",
       "      <td>'deg'</td>\n",
       "      <td>'deg'</td>\n",
       "      <td>2023arXiv230910054P</td>\n",
       "      <td>22xkq_behindFig2.dat</td>\n",
       "    </tr>\n",
       "  </tbody>\n",
       "</table>\n",
       "</div>"
      ],
      "text/plain": [
       "      name         ra       dec ra_units dec_units            reference  \\\n",
       "0  2022xkq  76.348792 -11.88225    'deg'     'deg'  2023arXiv230910054P   \n",
       "\n",
       "              phot_path  \n",
       "0  22xkq_behindFig2.dat  "
      ]
     },
     "execution_count": 18,
     "metadata": {},
     "output_type": "execute_result"
    }
   ],
   "source": [
    "# read in the meta file\n",
    "metapath = os.path.join(datapath, 'meta.csv')\n",
    "print(metapath)\n",
    "if not os.path.exists(metapath):\n",
    "    raise ValueError('meta.csv not found, can not upload this data!')\n",
    "pd.read_csv(metapath)"
   ]
  },
  {
   "cell_type": "code",
   "execution_count": null,
   "id": "99764435-9d8b-4b74-8246-9e4cf3e371bb",
   "metadata": {},
   "outputs": [],
   "source": []
  },
  {
   "cell_type": "code",
   "execution_count": null,
   "id": "c6b94633-38c1-4f69-9ff8-c0e6fa6511bd",
   "metadata": {},
   "outputs": [],
   "source": []
  }
 ],
 "metadata": {
  "kernelspec": {
   "display_name": "base",
   "language": "python",
   "name": "base"
  },
  "language_info": {
   "codemirror_mode": {
    "name": "ipython",
    "version": 3
   },
   "file_extension": ".py",
   "mimetype": "text/x-python",
   "name": "python",
   "nbconvert_exporter": "python",
   "pygments_lexer": "ipython3",
   "version": "3.11.4"
  }
 },
 "nbformat": 4,
 "nbformat_minor": 5
}
