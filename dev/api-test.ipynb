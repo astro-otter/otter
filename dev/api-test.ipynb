{
 "cells": [
  {
   "cell_type": "code",
   "execution_count": 1,
   "id": "cb32c6d3-a9dd-4f74-a842-c947e5270d1d",
   "metadata": {
    "tags": []
   },
   "outputs": [],
   "source": [
    "# import the API\n",
    "from otter import Otter, Transient"
   ]
  },
  {
   "cell_type": "code",
   "execution_count": 2,
   "id": "3b156d26-ac0f-4882-a9d2-2fb368f59493",
   "metadata": {
    "tags": []
   },
   "outputs": [],
   "source": [
    "# connect to the database\n",
    "\n",
    "db = Otter(username='user@otter', password='insecure')"
   ]
  },
  {
   "cell_type": "markdown",
   "id": "f5df110a-1205-42d8-9c24-0a6a743b721e",
   "metadata": {},
   "source": [
    "# A typical workflow\n",
    "\n",
    "### First use `Otter.getMeta` to query"
   ]
  },
  {
   "cell_type": "code",
   "execution_count": 3,
   "id": "e5c00f22-bc53-4c4a-af7e-25e819a039d6",
   "metadata": {
    "tags": []
   },
   "outputs": [
    {
     "data": {
      "text/plain": [
       "[{'name': {'default_name': 'ASASSN-15oi', 'alias': [{'value': 'ASASSN-15oi', 'reference': 'ASASSN'}]}, 'coordinate': {'equitorial': [{'ra': '20 39 09.096', 'dec': '-30 45 20.71', 'epoch': 'J2000', 'system': 'ICRS', 'ra_units': 'hourangle', 'dec_units': 'deg', 'reference': ['2021NatAs...5..491H'], 'computed': False, 'default': True, 'uuid': 'a06be641-1601-4737-9a1a-bd25c5dd61e6'}], 'galactic': [{'l': 13.01154485751856, 'b': -35.41877256185317, 'l_units': 'deg', 'b_units': 'deg', 'reference': 'a06be641-1601-4737-9a1a-bd25c5dd61e6', 'computed': True}]}, 'epoch': {'date_discovery': [{'value': 57248.2, 'date_format': 'MJD', 'reference': ['2021NatAs...5..491H'], 'computed': False}]}, 'distance': {'redshift': [{'value': '0.0484', 'reference': ['2021NatAs...5..491H'], 'computed': False, 'default': True}]}, 'classification': [{'object_class': 'TDE', 'confidence': 1, 'reference': ['2021NatAs...5..491H'], 'default': True}]},\n",
       " {'name': {'default_name': 'AT2020opy', 'alias': [{'value': 'AT2020opy', 'reference': 'TNS'}]}, 'coordinate': {'equitorial': [{'ra': '15 56 25.728', 'dec': '+23 22 21.15', 'epoch': 'J2000', 'system': 'ICRS', 'ra_units': 'hourangle', 'dec_units': 'deg', 'reference': ['2023MNRAS.518..847G'], 'computed': False, 'default': True, 'uuid': '4f414ede-e0f0-4423-b2cc-f3ad309f0936'}], 'galactic': [{'l': 38.411569358993255, 'b': 48.23253616380999, 'l_units': 'deg', 'b_units': 'deg', 'reference': '4f414ede-e0f0-4423-b2cc-f3ad309f0936', 'computed': True}]}, 'epoch': {'date_discovery': [{'value': 59038.23, 'date_format': 'MJD', 'reference': ['2023MNRAS.518..847G'], 'computed': False}]}, 'distance': {'redshift': [{'value': '0.159', 'reference': ['2023MNRAS.518..847G'], 'computed': False, 'default': True}]}, 'classification': [{'object_class': 'TDE', 'confidence': 1, 'reference': ['2023MNRAS.518..847G'], 'default': True}]}]"
      ]
     },
     "execution_count": 3,
     "metadata": {},
     "output_type": "execute_result"
    }
   ],
   "source": [
    "# can query by ANY name associated with an object\n",
    "db.getMeta(names=['ASASSN-15oi', 'AT2020opy'])"
   ]
  },
  {
   "cell_type": "code",
   "execution_count": 4,
   "id": "d9cb81bc-a109-4149-aa80-e4d863b9fddd",
   "metadata": {
    "tags": []
   },
   "outputs": [
    {
     "data": {
      "text/plain": [
       "[{'name': {'default_name': 'AT2020opy', 'alias': [{'value': 'AT2020opy', 'reference': 'TNS'}]}, 'coordinate': {'equitorial': [{'ra': '15 56 25.728', 'dec': '+23 22 21.15', 'epoch': 'J2000', 'system': 'ICRS', 'ra_units': 'hourangle', 'dec_units': 'deg', 'reference': ['2023MNRAS.518..847G'], 'computed': False, 'default': True, 'uuid': '4f414ede-e0f0-4423-b2cc-f3ad309f0936'}], 'galactic': [{'l': 38.411569358993255, 'b': 48.23253616380999, 'l_units': 'deg', 'b_units': 'deg', 'reference': '4f414ede-e0f0-4423-b2cc-f3ad309f0936', 'computed': True}]}, 'epoch': {'date_discovery': [{'value': 59038.23, 'date_format': 'MJD', 'reference': ['2023MNRAS.518..847G'], 'computed': False}]}, 'distance': {'redshift': [{'value': '0.159', 'reference': ['2023MNRAS.518..847G'], 'computed': False, 'default': True}]}, 'classification': [{'object_class': 'TDE', 'confidence': 1, 'reference': ['2023MNRAS.518..847G'], 'default': True}]}]"
      ]
     },
     "execution_count": 4,
     "metadata": {},
     "output_type": "execute_result"
    }
   ],
   "source": [
    "# can do a cone search\n",
    "from astropy.coordinates import SkyCoord\n",
    "import astropy.units as u\n",
    "coord = SkyCoord(239, 23, unit=('deg', 'deg'))\n",
    "rad = (1*u.deg).to(u.arcsec).value\n",
    "db.getMeta(coords=coord, radius=rad)"
   ]
  },
  {
   "cell_type": "code",
   "execution_count": 5,
   "id": "e615321b-b86f-4b65-a93d-c8a5f57c807c",
   "metadata": {
    "tags": []
   },
   "outputs": [
    {
     "data": {
      "text/plain": [
       "[{'name': {'default_name': 'Sw J1112-82', 'alias': [{'value': 'Sw J1112-82', 'reference': 'Swift'}]}, 'coordinate': {'equitorial': [{'ra': '11 11 47.6', 'dec': '-82 38 44.44', 'epoch': 'J2000', 'system': 'ICRS', 'ra_units': 'hourangle', 'dec_units': 'deg', 'reference': ['2017MNRAS.472.4469B'], 'computed': False, 'default': True, 'uuid': '3bb02aa4-eb60-4f09-acdf-d1431a6addc4'}], 'galactic': [{'l': 299.6337165869647, 'b': -20.420594756871665, 'l_units': 'deg', 'b_units': 'deg', 'reference': '3bb02aa4-eb60-4f09-acdf-d1431a6addc4', 'computed': True}]}, 'epoch': {'date_discovery': [{'value': '55729.5', 'date_format': 'MJD', 'reference': ['2017MNRAS.472.4469B'], 'computed': False}]}, 'distance': {'redshift': [{'value': '0.89', 'reference': ['2017MNRAS.472.4469B'], 'computed': False, 'default': True}]}, 'classification': [{'object_class': 'TDE', 'confidence': 1, 'reference': ['2017MNRAS.472.4469B'], 'default': True}]}]"
      ]
     },
     "execution_count": 5,
     "metadata": {},
     "output_type": "execute_result"
    }
   ],
   "source": [
    "# can search a redshift range\n",
    "db.getMeta(minZ=0.5, maxZ=0.9)"
   ]
  },
  {
   "cell_type": "code",
   "execution_count": 6,
   "id": "1ba49689-c065-4127-bb0f-f17d139f0d1b",
   "metadata": {
    "tags": []
   },
   "outputs": [
    {
     "data": {
      "text/plain": [
       "[]"
      ]
     },
     "execution_count": 6,
     "metadata": {},
     "output_type": "execute_result"
    }
   ],
   "source": [
    "# just get objects that have spectra associated with them\n",
    "db.getMeta(hasSpec=True)"
   ]
  },
  {
   "cell_type": "markdown",
   "id": "6dd6b5e5-f7dd-45ab-83a6-aa2ef31d54bd",
   "metadata": {},
   "source": [
    "### These outputs may appear like dictionaries but they're actually customized!"
   ]
  },
  {
   "cell_type": "code",
   "execution_count": 7,
   "id": "92a11e51-c618-47a6-8483-c1b39f58adac",
   "metadata": {
    "tags": []
   },
   "outputs": [
    {
     "name": "stdout",
     "output_type": "stream",
     "text": [
      "Help on class Transient in module otter.transient:\n",
      "\n",
      "class Transient(collections.abc.MutableMapping)\n",
      " |  Transient(d={}, name=None)\n",
      " |  \n",
      " |  Method resolution order:\n",
      " |      Transient\n",
      " |      collections.abc.MutableMapping\n",
      " |      collections.abc.Mapping\n",
      " |      collections.abc.Collection\n",
      " |      collections.abc.Sized\n",
      " |      collections.abc.Iterable\n",
      " |      collections.abc.Container\n",
      " |      builtins.object\n",
      " |  \n",
      " |  Methods defined here:\n",
      " |  \n",
      " |  __add__(self, other, strict_merge=True)\n",
      " |      Merge this transient object with another transient object\n",
      " |      \n",
      " |      Args:\n",
      " |          other [Transient]: A Transient object to merge with\n",
      " |          strict_merge [bool]: If True it won't let you merge objects that\n",
      " |                               intuitively shouldn't be merged (ie. different\n",
      " |                               transient events).\n",
      " |  \n",
      " |  __delitem__(self, keys)\n",
      " |  \n",
      " |  __getitem__(self, keys)\n",
      " |  \n",
      " |  __init__(self, d={}, name=None)\n",
      " |      Overwrite the dictionary init\n",
      " |      \n",
      " |      Args:\n",
      " |          d [dict]: A transient dictionary\n",
      " |  \n",
      " |  __iter__(self)\n",
      " |  \n",
      " |  __len__(self)\n",
      " |  \n",
      " |  __repr__(self, html=False)\n",
      " |      Return repr(self).\n",
      " |  \n",
      " |  __setitem__(self, key, value)\n",
      " |  \n",
      " |  cleanPhotometry(self, flux_unit='mag(AB)', date_unit='MJD')\n",
      " |      Ensure the photometry associated with this transient is all in the same units/system/etc\n",
      " |      \n",
      " |      THIS IS HELL\n",
      " |  \n",
      " |  getMeta(self, keys=None)\n",
      " |      Get the metadata (no photometry or spectra)\n",
      " |          \n",
      " |      This essentially just wraps on __getitem__ but with some checks\n",
      " |      \n",
      " |      Args:\n",
      " |          keys [list[str]] : list of keys\n",
      " |  \n",
      " |  getSkyCoord(self, coord_type='equitorial', idx=0)\n",
      " |      Convert the coordinates to an astropy SkyCoord\n",
      " |  \n",
      " |  keys(self)\n",
      " |      D.keys() -> a set-like object providing a view on D's keys\n",
      " |  \n",
      " |  plotPhotometry(self, flux_unit='mag(AB)', date_unit='datetime', **kwargs)\n",
      " |      Plot the photometry associated with this transient (if any)\n",
      " |      \n",
      " |      Args:\n",
      " |          flux_unit [str]: Valid astropy unit string for the flux (y-axis) units.\n",
      " |                           Default: 'ABmag'\n",
      " |          date_unit [str]: Valid astropy unit string for the date (x-axis) units.\n",
      " |                           Default: 'MJD'\n",
      " |  \n",
      " |  ----------------------------------------------------------------------\n",
      " |  Data descriptors defined here:\n",
      " |  \n",
      " |  __dict__\n",
      " |      dictionary for instance variables (if defined)\n",
      " |  \n",
      " |  __weakref__\n",
      " |      list of weak references to the object (if defined)\n",
      " |  \n",
      " |  ----------------------------------------------------------------------\n",
      " |  Data and other attributes defined here:\n",
      " |  \n",
      " |  __abstractmethods__ = frozenset()\n",
      " |  \n",
      " |  ----------------------------------------------------------------------\n",
      " |  Methods inherited from collections.abc.MutableMapping:\n",
      " |  \n",
      " |  clear(self)\n",
      " |      D.clear() -> None.  Remove all items from D.\n",
      " |  \n",
      " |  pop(self, key, default=<object object at 0x7f98c46b0150>)\n",
      " |      D.pop(k[,d]) -> v, remove specified key and return the corresponding value.\n",
      " |      If key is not found, d is returned if given, otherwise KeyError is raised.\n",
      " |  \n",
      " |  popitem(self)\n",
      " |      D.popitem() -> (k, v), remove and return some (key, value) pair\n",
      " |      as a 2-tuple; but raise KeyError if D is empty.\n",
      " |  \n",
      " |  setdefault(self, key, default=None)\n",
      " |      D.setdefault(k[,d]) -> D.get(k,d), also set D[k]=d if k not in D\n",
      " |  \n",
      " |  update(self, other=(), /, **kwds)\n",
      " |      D.update([E, ]**F) -> None.  Update D from mapping/iterable E and F.\n",
      " |      If E present and has a .keys() method, does:     for k in E: D[k] = E[k]\n",
      " |      If E present and lacks .keys() method, does:     for (k, v) in E: D[k] = v\n",
      " |      In either case, this is followed by: for k, v in F.items(): D[k] = v\n",
      " |  \n",
      " |  ----------------------------------------------------------------------\n",
      " |  Methods inherited from collections.abc.Mapping:\n",
      " |  \n",
      " |  __contains__(self, key)\n",
      " |  \n",
      " |  __eq__(self, other)\n",
      " |      Return self==value.\n",
      " |  \n",
      " |  get(self, key, default=None)\n",
      " |      D.get(k[,d]) -> D[k] if k in D, else d.  d defaults to None.\n",
      " |  \n",
      " |  items(self)\n",
      " |      D.items() -> a set-like object providing a view on D's items\n",
      " |  \n",
      " |  values(self)\n",
      " |      D.values() -> an object providing a view on D's values\n",
      " |  \n",
      " |  ----------------------------------------------------------------------\n",
      " |  Data and other attributes inherited from collections.abc.Mapping:\n",
      " |  \n",
      " |  __hash__ = None\n",
      " |  \n",
      " |  __reversed__ = None\n",
      " |  \n",
      " |  ----------------------------------------------------------------------\n",
      " |  Class methods inherited from collections.abc.Collection:\n",
      " |  \n",
      " |  __subclasshook__(C) from abc.ABCMeta\n",
      " |      Abstract classes can override this to customize issubclass().\n",
      " |      \n",
      " |      This is invoked early on by abc.ABCMeta.__subclasscheck__().\n",
      " |      It should return True, False or NotImplemented.  If it returns\n",
      " |      NotImplemented, the normal algorithm is used.  Otherwise, it\n",
      " |      overrides the normal algorithm (and the outcome is cached).\n",
      " |  \n",
      " |  ----------------------------------------------------------------------\n",
      " |  Class methods inherited from collections.abc.Iterable:\n",
      " |  \n",
      " |  __class_getitem__ = GenericAlias(...) from abc.ABCMeta\n",
      " |      Represent a PEP 585 generic type\n",
      " |      \n",
      " |      E.g. for t = list[int], t.__origin__ is list and t.__args__ is (int,).\n",
      "\n"
     ]
    }
   ],
   "source": [
    "help(Transient)"
   ]
  },
  {
   "cell_type": "code",
   "execution_count": 8,
   "id": "f023b13e-6d98-4e42-abbd-b27a9cd4cd85",
   "metadata": {
    "tags": []
   },
   "outputs": [
    {
     "name": "stdout",
     "output_type": "stream",
     "text": [
      "<class 'otter.transient.Transient'>\n",
      "\n",
      "[{'ra': '11 11 47.6', 'dec': '-82 38 44.44', 'epoch': 'J2000', 'system': 'ICRS', 'ra_units': 'hourangle', 'dec_units': 'deg', 'reference': ['2017MNRAS.472.4469B'], 'computed': False, 'default': True, 'uuid': '3bb02aa4-eb60-4f09-acdf-d1431a6addc4'}]\n",
      "[{'ra': '11 11 47.6', 'dec': '-82 38 44.44', 'epoch': 'J2000', 'system': 'ICRS', 'ra_units': 'hourangle', 'dec_units': 'deg', 'reference': ['2017MNRAS.472.4469B'], 'computed': False, 'default': True, 'uuid': '3bb02aa4-eb60-4f09-acdf-d1431a6addc4'}]\n"
     ]
    }
   ],
   "source": [
    "t = db.getMeta(minZ=0.5, maxZ=0.9)[0]\n",
    "print(type(t))\n",
    "print()\n",
    "# say you want to get the equitorial coordinates\n",
    "# you can do it classically \n",
    "print(t['coordinate']['equitorial'])\n",
    "\n",
    "# or you can use the hdf5 style\n",
    "print(t['coordinate/equitorial'])"
   ]
  },
  {
   "cell_type": "code",
   "execution_count": 9,
   "id": "610d569e-24ce-46ba-a88e-9637da37c853",
   "metadata": {
    "tags": []
   },
   "outputs": [
    {
     "data": {
      "text/plain": [
       "{'name/default_name': 'Sw J1112-82', 'coordinate/equitorial': [{'ra': '11 11 47.6', 'dec': '-82 38 44.44', 'epoch': 'J2000', 'system': 'ICRS', 'ra_units': 'hourangle', 'dec_units': 'deg', 'reference': ['2017MNRAS.472.4469B'], 'computed': False, 'default': True, 'uuid': '3bb02aa4-eb60-4f09-acdf-d1431a6addc4'}], 'distance': {'redshift': [{'value': '0.89', 'reference': ['2017MNRAS.472.4469B'], 'computed': False, 'default': True}]}}"
      ]
     },
     "execution_count": 9,
     "metadata": {},
     "output_type": "execute_result"
    }
   ],
   "source": [
    "# You can also get multiple fields at once\n",
    "t[['name/default_name', 'coordinate/equitorial', 'distance']]"
   ]
  },
  {
   "cell_type": "code",
   "execution_count": 10,
   "id": "cf0eabc7-0281-467f-b71e-894ba3a5ac98",
   "metadata": {
    "tags": []
   },
   "outputs": [
    {
     "name": "stdout",
     "output_type": "stream",
     "text": [
      "The following error is actually expected!\n",
      "We dont want you to be able to combine any old transients!\n",
      "\n",
      "Error Message:\n",
      "These two transients are not within 5 arcseconds! They probably do not belong together! If they do You can set strict_merge=False to override the check\n"
     ]
    }
   ],
   "source": [
    "# you can also add two Transient objects to merge them\n",
    "\n",
    "t1, t2 = db.query(names=['ASASSN-15oi', 'AT2020opy'])\n",
    "\n",
    "try:\n",
    "    t1 + t2\n",
    "except ValueError as ve:\n",
    "    print('The following error is actually expected!')\n",
    "    print('We dont want you to be able to combine any old transients!')\n",
    "    print()\n",
    "    print('Error Message:')\n",
    "    print(ve)"
   ]
  },
  {
   "cell_type": "code",
   "execution_count": 11,
   "id": "981a1838-dc6d-444c-9a62-5e9b3f2d3ee7",
   "metadata": {
    "tags": []
   },
   "outputs": [
    {
     "name": "stderr",
     "output_type": "stream",
     "text": [
      "/home/nfranz/otter/py/otter/transient.py:211: UserWarning:\n",
      "\n",
      "_rev was not expected! Only keeping the old information!\n",
      "\n",
      "/home/nfranz/otter/py/otter/transient.py:211: UserWarning:\n",
      "\n",
      "_key was not expected! Only keeping the old information!\n",
      "\n",
      "/home/nfranz/otter/py/otter/transient.py:211: UserWarning:\n",
      "\n",
      "_id was not expected! Only keeping the old information!\n",
      "\n"
     ]
    },
    {
     "data": {
      "text/plain": [
       "[{'reference': '2021NatAs...5..491H',\n",
       "  'raw': [0.033,\n",
       "   0.036,\n",
       "   0.06,\n",
       "   1.114,\n",
       "   0.899,\n",
       "   0.881,\n",
       "   0.824,\n",
       "   0.854,\n",
       "   0.617,\n",
       "   0.262,\n",
       "   8.0,\n",
       "   0.047,\n",
       "   0.091,\n",
       "   0.256],\n",
       "  'raw_units': ['mJy',\n",
       "   'mJy',\n",
       "   'mJy',\n",
       "   'mJy',\n",
       "   'mJy',\n",
       "   'mJy',\n",
       "   'mJy',\n",
       "   'mJy',\n",
       "   'mJy',\n",
       "   'mJy',\n",
       "   'mJy',\n",
       "   'mJy',\n",
       "   'mJy',\n",
       "   'mJy'],\n",
       "  'date': [57256.2,\n",
       "   57271.2,\n",
       "   57338.2,\n",
       "   57430.2,\n",
       "   57438.2,\n",
       "   57445.2,\n",
       "   57481.2,\n",
       "   57531.2,\n",
       "   57617.2,\n",
       "   57824.2,\n",
       "   58665.2,\n",
       "   59077.23,\n",
       "   59200.23,\n",
       "   59368.23],\n",
       "  'date_format': ['MJD',\n",
       "   'MJD',\n",
       "   'MJD',\n",
       "   'MJD',\n",
       "   'MJD',\n",
       "   'MJD',\n",
       "   'MJD',\n",
       "   'MJD',\n",
       "   'MJD',\n",
       "   'MJD',\n",
       "   'MJD',\n",
       "   'MJD',\n",
       "   'MJD',\n",
       "   'MJD'],\n",
       "  'filter_key': ['6.1GHz',\n",
       "   '6.1GHz',\n",
       "   '6.1GHz',\n",
       "   '4.8GHz',\n",
       "   '4.8GHz',\n",
       "   '5.5GHz',\n",
       "   '5.5GHz',\n",
       "   '5.0GHz',\n",
       "   '5.0GHz',\n",
       "   '5.0GHz',\n",
       "   '3.0GHz',\n",
       "   '5.04GHz',\n",
       "   '5.5GHz',\n",
       "   '5.5GHz'],\n",
       "  'computed': [False,\n",
       "   False,\n",
       "   False,\n",
       "   False,\n",
       "   False,\n",
       "   False,\n",
       "   False,\n",
       "   False,\n",
       "   False,\n",
       "   False,\n",
       "   False,\n",
       "   False,\n",
       "   False,\n",
       "   False],\n",
       "  'obs_type': ['radio',\n",
       "   'radio',\n",
       "   'radio',\n",
       "   'radio',\n",
       "   'radio',\n",
       "   'radio',\n",
       "   'radio',\n",
       "   'radio',\n",
       "   'radio',\n",
       "   'radio',\n",
       "   'radio',\n",
       "   'radio',\n",
       "   'radio',\n",
       "   'radio'],\n",
       "  'upperlimit': [True,\n",
       "   True,\n",
       "   True,\n",
       "   False,\n",
       "   False,\n",
       "   False,\n",
       "   False,\n",
       "   False,\n",
       "   False,\n",
       "   False,\n",
       "   False,\n",
       "   False,\n",
       "   False,\n",
       "   False]}]"
      ]
     },
     "execution_count": 11,
     "metadata": {},
     "output_type": "execute_result"
    }
   ],
   "source": [
    "# If you want to override this you have to do\n",
    "t2['photometry'][0]['reference'] = '2021NatAs...5..491H'\n",
    "\n",
    "t3 = t1.__add__(t2, strict_merge=False)\n",
    "\n",
    "t3['photometry']"
   ]
  },
  {
   "cell_type": "markdown",
   "id": "891c5a9b-0083-4679-90c4-8fd6c7f016ff",
   "metadata": {},
   "source": [
    "Obviously, this result doesn't makes sense! This has the data from two completely different transients in it. So, be careful using `strict_merge=False`!"
   ]
  },
  {
   "cell_type": "markdown",
   "id": "56b34717-2265-4d4e-aeb7-978ebed4753f",
   "metadata": {},
   "source": [
    "## Can then get photometry \n",
    "This does the conversion for you!!!"
   ]
  },
  {
   "cell_type": "code",
   "execution_count": 12,
   "id": "99b1a8bc-3066-402c-bfbd-70331e2297bf",
   "metadata": {
    "tags": []
   },
   "outputs": [
    {
     "data": {
      "text/plain": [
       "\u001b[0;31mSignature:\u001b[0m\n",
       "\u001b[0mdb\u001b[0m\u001b[0;34m.\u001b[0m\u001b[0mgetPhot\u001b[0m\u001b[0;34m(\u001b[0m\u001b[0;34m\u001b[0m\n",
       "\u001b[0;34m\u001b[0m    \u001b[0mflux_unit\u001b[0m\u001b[0;34m=\u001b[0m\u001b[0;34m'mag(AB)'\u001b[0m\u001b[0;34m,\u001b[0m\u001b[0;34m\u001b[0m\n",
       "\u001b[0;34m\u001b[0m    \u001b[0mdate_unit\u001b[0m\u001b[0;34m=\u001b[0m\u001b[0;34m'MJD'\u001b[0m\u001b[0;34m,\u001b[0m\u001b[0;34m\u001b[0m\n",
       "\u001b[0;34m\u001b[0m    \u001b[0mreturn_type\u001b[0m\u001b[0;34m=\u001b[0m\u001b[0;34m'astropy'\u001b[0m\u001b[0;34m,\u001b[0m\u001b[0;34m\u001b[0m\n",
       "\u001b[0;34m\u001b[0m    \u001b[0;34m**\u001b[0m\u001b[0mkwargs\u001b[0m\u001b[0;34m,\u001b[0m\u001b[0;34m\u001b[0m\n",
       "\u001b[0;34m\u001b[0m\u001b[0;34m)\u001b[0m \u001b[0;34m->\u001b[0m \u001b[0mastropy\u001b[0m\u001b[0;34m.\u001b[0m\u001b[0mtable\u001b[0m\u001b[0;34m.\u001b[0m\u001b[0mtable\u001b[0m\u001b[0;34m.\u001b[0m\u001b[0mTable\u001b[0m\u001b[0;34m\u001b[0m\u001b[0;34m\u001b[0m\u001b[0m\n",
       "\u001b[0;31mDocstring:\u001b[0m\n",
       "Get the photometry of the objects matching the arguments. This will do the\n",
       "unit conversion for you!\n",
       "\n",
       "Args:\n",
       "    flux_units [astropy.unit.Unit]: Either a valid string to convert \n",
       "                                    or an astropy.unit.Unit\n",
       "    date_units [astropy.unit.Unit]: Either a valid string to convert to a date \n",
       "                                    or an astropy.unit.Unit\n",
       "    return_type [str]: Either 'astropy' or 'pandas'. If astropy, returns an\n",
       "                       astropy Table. If pandas, returns a pandas DataFrame.\n",
       "                       Default is 'astropy'.\n",
       "    \n",
       "    **kwargs : Arguments to pass to Otter.query(). Can be:\n",
       "               names [list[str]]: A list of names to get the metadata for\n",
       "               coords [SkyCoord]: An astropy SkyCoord object with coordinates to match to\n",
       "               radius [float]: The radius in arcseconds for a cone search, default is 0.05\"\n",
       "               minZ [float]: The minimum redshift to search for\n",
       "               maxZ [float]: The maximum redshift to search for\n",
       "               refs [list[str]]: A list of ads bibcodes to match to. Will only return \n",
       "                      metadata for transients that have this as a reference.\n",
       "               hasSpec [bool]: if True, only return transients that have spectra.\n",
       "\n",
       "Return:\n",
       "   The photometry for the requested transients that match the arguments. \n",
       "   Will be an astropy Table sorted by transient default name.\n",
       "\u001b[0;31mFile:\u001b[0m      ~/otter/py/otter/otter.py\n",
       "\u001b[0;31mType:\u001b[0m      method"
      ]
     },
     "metadata": {},
     "output_type": "display_data"
    }
   ],
   "source": [
    "db.getPhot?"
   ]
  },
  {
   "cell_type": "code",
   "execution_count": 13,
   "id": "2f11b832-20a8-4ad2-81c8-1ee45cb40cb5",
   "metadata": {
    "tags": []
   },
   "outputs": [
    {
     "data": {
      "text/html": [
       "<div>\n",
       "<style scoped>\n",
       "    .dataframe tbody tr th:only-of-type {\n",
       "        vertical-align: middle;\n",
       "    }\n",
       "\n",
       "    .dataframe tbody tr th {\n",
       "        vertical-align: top;\n",
       "    }\n",
       "\n",
       "    .dataframe thead th {\n",
       "        text-align: right;\n",
       "    }\n",
       "</style>\n",
       "<table border=\"1\" class=\"dataframe\">\n",
       "  <thead>\n",
       "    <tr style=\"text-align: right;\">\n",
       "      <th></th>\n",
       "      <th>reference</th>\n",
       "      <th>date</th>\n",
       "      <th>filter_key</th>\n",
       "      <th>computed</th>\n",
       "      <th>obs_type</th>\n",
       "      <th>upperlimit</th>\n",
       "      <th>freq_eff</th>\n",
       "      <th>freq_units</th>\n",
       "      <th>human_readable_refs</th>\n",
       "      <th>converted_flux</th>\n",
       "      <th>converted_date</th>\n",
       "      <th>name</th>\n",
       "    </tr>\n",
       "  </thead>\n",
       "  <tbody>\n",
       "    <tr>\n",
       "      <th>0</th>\n",
       "      <td>2016ApJ...819L..25A</td>\n",
       "      <td>57124.871000</td>\n",
       "      <td>5.0GHz</td>\n",
       "      <td>False</td>\n",
       "      <td>radio</td>\n",
       "      <td>False</td>\n",
       "      <td>5.0</td>\n",
       "      <td>GHz</td>\n",
       "      <td>Alexander et al. (2016)</td>\n",
       "      <td>15.697417</td>\n",
       "      <td>2015-04-12 20:54:14.400000</td>\n",
       "      <td>ASASSN-14li</td>\n",
       "    </tr>\n",
       "    <tr>\n",
       "      <th>1</th>\n",
       "      <td>2016ApJ...819L..25A</td>\n",
       "      <td>57190.830000</td>\n",
       "      <td>5.0GHz</td>\n",
       "      <td>False</td>\n",
       "      <td>radio</td>\n",
       "      <td>False</td>\n",
       "      <td>5.0</td>\n",
       "      <td>GHz</td>\n",
       "      <td>Alexander et al. (2016)</td>\n",
       "      <td>15.797567</td>\n",
       "      <td>2015-06-17 19:55:12.000000</td>\n",
       "      <td>ASASSN-14li</td>\n",
       "    </tr>\n",
       "    <tr>\n",
       "      <th>2</th>\n",
       "      <td>2016ApJ...819L..25A</td>\n",
       "      <td>57229.750000</td>\n",
       "      <td>5.0GHz</td>\n",
       "      <td>False</td>\n",
       "      <td>radio</td>\n",
       "      <td>False</td>\n",
       "      <td>5.0</td>\n",
       "      <td>GHz</td>\n",
       "      <td>Alexander et al. (2016)</td>\n",
       "      <td>15.915797</td>\n",
       "      <td>2015-07-26 18:00:00.000000</td>\n",
       "      <td>ASASSN-14li</td>\n",
       "    </tr>\n",
       "    <tr>\n",
       "      <th>3</th>\n",
       "      <td>2016ApJ...819L..25A</td>\n",
       "      <td>57286.514583</td>\n",
       "      <td>5.0GHz</td>\n",
       "      <td>False</td>\n",
       "      <td>radio</td>\n",
       "      <td>False</td>\n",
       "      <td>5.0</td>\n",
       "      <td>GHz</td>\n",
       "      <td>Alexander et al. (2016)</td>\n",
       "      <td>16.152094</td>\n",
       "      <td>2015-09-21 12:20:59.997120</td>\n",
       "      <td>ASASSN-14li</td>\n",
       "    </tr>\n",
       "    <tr>\n",
       "      <th>4</th>\n",
       "      <td>2016ApJ...819L..25A</td>\n",
       "      <td>57362.700000</td>\n",
       "      <td>5.0GHz</td>\n",
       "      <td>False</td>\n",
       "      <td>radio</td>\n",
       "      <td>False</td>\n",
       "      <td>5.0</td>\n",
       "      <td>GHz</td>\n",
       "      <td>Alexander et al. (2016)</td>\n",
       "      <td>16.547278</td>\n",
       "      <td>2015-12-06 16:48:00.000000</td>\n",
       "      <td>ASASSN-14li</td>\n",
       "    </tr>\n",
       "    <tr>\n",
       "      <th>0</th>\n",
       "      <td>2021NatAs...5..491H</td>\n",
       "      <td>57256.200000</td>\n",
       "      <td>6.1GHz</td>\n",
       "      <td>False</td>\n",
       "      <td>radio</td>\n",
       "      <td>True</td>\n",
       "      <td>6.1</td>\n",
       "      <td>GHz</td>\n",
       "      <td>Horesh et al. (2021)</td>\n",
       "      <td>20.103715</td>\n",
       "      <td>2015-08-22 04:48:00.000000</td>\n",
       "      <td>ASASSN-15oi</td>\n",
       "    </tr>\n",
       "    <tr>\n",
       "      <th>1</th>\n",
       "      <td>2021NatAs...5..491H</td>\n",
       "      <td>57271.200000</td>\n",
       "      <td>6.1GHz</td>\n",
       "      <td>False</td>\n",
       "      <td>radio</td>\n",
       "      <td>True</td>\n",
       "      <td>6.1</td>\n",
       "      <td>GHz</td>\n",
       "      <td>Horesh et al. (2021)</td>\n",
       "      <td>20.009244</td>\n",
       "      <td>2015-09-06 04:48:00.000000</td>\n",
       "      <td>ASASSN-15oi</td>\n",
       "    </tr>\n",
       "    <tr>\n",
       "      <th>2</th>\n",
       "      <td>2021NatAs...5..491H</td>\n",
       "      <td>57338.200000</td>\n",
       "      <td>6.1GHz</td>\n",
       "      <td>False</td>\n",
       "      <td>radio</td>\n",
       "      <td>True</td>\n",
       "      <td>6.1</td>\n",
       "      <td>GHz</td>\n",
       "      <td>Horesh et al. (2021)</td>\n",
       "      <td>19.454622</td>\n",
       "      <td>2015-11-12 04:48:00.000000</td>\n",
       "      <td>ASASSN-15oi</td>\n",
       "    </tr>\n",
       "    <tr>\n",
       "      <th>3</th>\n",
       "      <td>2021NatAs...5..491H</td>\n",
       "      <td>57430.200000</td>\n",
       "      <td>4.8GHz</td>\n",
       "      <td>False</td>\n",
       "      <td>radio</td>\n",
       "      <td>False</td>\n",
       "      <td>4.8</td>\n",
       "      <td>GHz</td>\n",
       "      <td>Horesh et al. (2021)</td>\n",
       "      <td>16.282787</td>\n",
       "      <td>2016-02-12 04:48:00.000000</td>\n",
       "      <td>ASASSN-15oi</td>\n",
       "    </tr>\n",
       "    <tr>\n",
       "      <th>4</th>\n",
       "      <td>2021NatAs...5..491H</td>\n",
       "      <td>57438.200000</td>\n",
       "      <td>4.8GHz</td>\n",
       "      <td>False</td>\n",
       "      <td>radio</td>\n",
       "      <td>False</td>\n",
       "      <td>4.8</td>\n",
       "      <td>GHz</td>\n",
       "      <td>Horesh et al. (2021)</td>\n",
       "      <td>16.515601</td>\n",
       "      <td>2016-02-20 04:48:00.000000</td>\n",
       "      <td>ASASSN-15oi</td>\n",
       "    </tr>\n",
       "    <tr>\n",
       "      <th>5</th>\n",
       "      <td>2021NatAs...5..491H</td>\n",
       "      <td>57445.200000</td>\n",
       "      <td>5.5GHz</td>\n",
       "      <td>False</td>\n",
       "      <td>radio</td>\n",
       "      <td>False</td>\n",
       "      <td>5.5</td>\n",
       "      <td>GHz</td>\n",
       "      <td>Horesh et al. (2021)</td>\n",
       "      <td>16.537560</td>\n",
       "      <td>2016-02-27 04:48:00.000000</td>\n",
       "      <td>ASASSN-15oi</td>\n",
       "    </tr>\n",
       "    <tr>\n",
       "      <th>6</th>\n",
       "      <td>2021NatAs...5..491H</td>\n",
       "      <td>57481.200000</td>\n",
       "      <td>5.5GHz</td>\n",
       "      <td>False</td>\n",
       "      <td>radio</td>\n",
       "      <td>False</td>\n",
       "      <td>5.5</td>\n",
       "      <td>GHz</td>\n",
       "      <td>Horesh et al. (2021)</td>\n",
       "      <td>16.610182</td>\n",
       "      <td>2016-04-03 04:48:00.000000</td>\n",
       "      <td>ASASSN-15oi</td>\n",
       "    </tr>\n",
       "    <tr>\n",
       "      <th>7</th>\n",
       "      <td>2021NatAs...5..491H</td>\n",
       "      <td>57531.200000</td>\n",
       "      <td>5.0GHz</td>\n",
       "      <td>False</td>\n",
       "      <td>radio</td>\n",
       "      <td>False</td>\n",
       "      <td>5.0</td>\n",
       "      <td>GHz</td>\n",
       "      <td>Horesh et al. (2021)</td>\n",
       "      <td>16.571355</td>\n",
       "      <td>2016-05-23 04:48:00.000000</td>\n",
       "      <td>ASASSN-15oi</td>\n",
       "    </tr>\n",
       "    <tr>\n",
       "      <th>8</th>\n",
       "      <td>2021NatAs...5..491H</td>\n",
       "      <td>57617.200000</td>\n",
       "      <td>5.0GHz</td>\n",
       "      <td>False</td>\n",
       "      <td>radio</td>\n",
       "      <td>False</td>\n",
       "      <td>5.0</td>\n",
       "      <td>GHz</td>\n",
       "      <td>Horesh et al. (2021)</td>\n",
       "      <td>16.924287</td>\n",
       "      <td>2016-08-17 04:48:00.000000</td>\n",
       "      <td>ASASSN-15oi</td>\n",
       "    </tr>\n",
       "    <tr>\n",
       "      <th>9</th>\n",
       "      <td>2021NatAs...5..491H</td>\n",
       "      <td>57824.200000</td>\n",
       "      <td>5.0GHz</td>\n",
       "      <td>False</td>\n",
       "      <td>radio</td>\n",
       "      <td>False</td>\n",
       "      <td>5.0</td>\n",
       "      <td>GHz</td>\n",
       "      <td>Horesh et al. (2021)</td>\n",
       "      <td>17.854247</td>\n",
       "      <td>2017-03-12 04:48:00.000000</td>\n",
       "      <td>ASASSN-15oi</td>\n",
       "    </tr>\n",
       "    <tr>\n",
       "      <th>10</th>\n",
       "      <td>2021NatAs...5..491H</td>\n",
       "      <td>58665.200000</td>\n",
       "      <td>3.0GHz</td>\n",
       "      <td>False</td>\n",
       "      <td>radio</td>\n",
       "      <td>False</td>\n",
       "      <td>3.0</td>\n",
       "      <td>GHz</td>\n",
       "      <td>Horesh et al. (2021)</td>\n",
       "      <td>14.142275</td>\n",
       "      <td>2019-07-01 04:48:00.000000</td>\n",
       "      <td>ASASSN-15oi</td>\n",
       "    </tr>\n",
       "  </tbody>\n",
       "</table>\n",
       "</div>"
      ],
      "text/plain": [
       "              reference          date filter_key  computed obs_type  \\\n",
       "0   2016ApJ...819L..25A  57124.871000     5.0GHz     False    radio   \n",
       "1   2016ApJ...819L..25A  57190.830000     5.0GHz     False    radio   \n",
       "2   2016ApJ...819L..25A  57229.750000     5.0GHz     False    radio   \n",
       "3   2016ApJ...819L..25A  57286.514583     5.0GHz     False    radio   \n",
       "4   2016ApJ...819L..25A  57362.700000     5.0GHz     False    radio   \n",
       "0   2021NatAs...5..491H  57256.200000     6.1GHz     False    radio   \n",
       "1   2021NatAs...5..491H  57271.200000     6.1GHz     False    radio   \n",
       "2   2021NatAs...5..491H  57338.200000     6.1GHz     False    radio   \n",
       "3   2021NatAs...5..491H  57430.200000     4.8GHz     False    radio   \n",
       "4   2021NatAs...5..491H  57438.200000     4.8GHz     False    radio   \n",
       "5   2021NatAs...5..491H  57445.200000     5.5GHz     False    radio   \n",
       "6   2021NatAs...5..491H  57481.200000     5.5GHz     False    radio   \n",
       "7   2021NatAs...5..491H  57531.200000     5.0GHz     False    radio   \n",
       "8   2021NatAs...5..491H  57617.200000     5.0GHz     False    radio   \n",
       "9   2021NatAs...5..491H  57824.200000     5.0GHz     False    radio   \n",
       "10  2021NatAs...5..491H  58665.200000     3.0GHz     False    radio   \n",
       "\n",
       "    upperlimit  freq_eff freq_units      human_readable_refs  converted_flux  \\\n",
       "0        False       5.0        GHz  Alexander et al. (2016)       15.697417   \n",
       "1        False       5.0        GHz  Alexander et al. (2016)       15.797567   \n",
       "2        False       5.0        GHz  Alexander et al. (2016)       15.915797   \n",
       "3        False       5.0        GHz  Alexander et al. (2016)       16.152094   \n",
       "4        False       5.0        GHz  Alexander et al. (2016)       16.547278   \n",
       "0         True       6.1        GHz     Horesh et al. (2021)       20.103715   \n",
       "1         True       6.1        GHz     Horesh et al. (2021)       20.009244   \n",
       "2         True       6.1        GHz     Horesh et al. (2021)       19.454622   \n",
       "3        False       4.8        GHz     Horesh et al. (2021)       16.282787   \n",
       "4        False       4.8        GHz     Horesh et al. (2021)       16.515601   \n",
       "5        False       5.5        GHz     Horesh et al. (2021)       16.537560   \n",
       "6        False       5.5        GHz     Horesh et al. (2021)       16.610182   \n",
       "7        False       5.0        GHz     Horesh et al. (2021)       16.571355   \n",
       "8        False       5.0        GHz     Horesh et al. (2021)       16.924287   \n",
       "9        False       5.0        GHz     Horesh et al. (2021)       17.854247   \n",
       "10       False       3.0        GHz     Horesh et al. (2021)       14.142275   \n",
       "\n",
       "               converted_date         name  \n",
       "0  2015-04-12 20:54:14.400000  ASASSN-14li  \n",
       "1  2015-06-17 19:55:12.000000  ASASSN-14li  \n",
       "2  2015-07-26 18:00:00.000000  ASASSN-14li  \n",
       "3  2015-09-21 12:20:59.997120  ASASSN-14li  \n",
       "4  2015-12-06 16:48:00.000000  ASASSN-14li  \n",
       "0  2015-08-22 04:48:00.000000  ASASSN-15oi  \n",
       "1  2015-09-06 04:48:00.000000  ASASSN-15oi  \n",
       "2  2015-11-12 04:48:00.000000  ASASSN-15oi  \n",
       "3  2016-02-12 04:48:00.000000  ASASSN-15oi  \n",
       "4  2016-02-20 04:48:00.000000  ASASSN-15oi  \n",
       "5  2016-02-27 04:48:00.000000  ASASSN-15oi  \n",
       "6  2016-04-03 04:48:00.000000  ASASSN-15oi  \n",
       "7  2016-05-23 04:48:00.000000  ASASSN-15oi  \n",
       "8  2016-08-17 04:48:00.000000  ASASSN-15oi  \n",
       "9  2017-03-12 04:48:00.000000  ASASSN-15oi  \n",
       "10 2019-07-01 04:48:00.000000  ASASSN-15oi  "
      ]
     },
     "execution_count": 13,
     "metadata": {},
     "output_type": "execute_result"
    }
   ],
   "source": [
    "# can easily grab photometry in consistent units to plot!\n",
    "import matplotlib.pyplot as plt\n",
    "flux_unit = u.ABmag #u.erg/u.s/u.cm**2/u.Hz #'erg/s/cm^2/Hz'\n",
    "tab = db.getPhot(flux_unit=flux_unit, date_unit='datetime', names=['ASASSN-15oi', 'ASASSN-14li'], return_type='pandas')\n",
    "\n",
    "tab"
   ]
  },
  {
   "cell_type": "code",
   "execution_count": 14,
   "id": "0619007b-2894-4085-be2e-0bd98c9fc646",
   "metadata": {
    "tags": []
   },
   "outputs": [
    {
     "data": {
      "image/png": "[encoded data removed]",
      "text/plain": [
       "<Figure size 640x480 with 1 Axes>"
      ]
     },
     "metadata": {},
     "output_type": "display_data"
    }
   ],
   "source": [
    "fig, ax = plt.subplots()\n",
    "for key, table in tab.groupby('name'):\n",
    "    ax.plot(table['converted_date'], table['converted_flux'], label=key, marker='o', linestyle='none')\n",
    "    \n",
    "ax.set_ylabel(f'Flux Density [{flux_unit}]')\n",
    "ax.set_xlabel('Date')\n",
    "ax.set_xticks(ax.get_xticks(), ax.get_xticklabels(), rotation=45)\n",
    "ax.legend();"
   ]
  },
  {
   "cell_type": "markdown",
   "id": "be28d241-597d-4ed8-93af-63ea602c3b44",
   "metadata": {},
   "source": [
    "# General Queries (shouldn't be used unless you know what you're doing!)"
   ]
  },
  {
   "cell_type": "code",
   "execution_count": 15,
   "id": "264ccb22-26d3-4a7d-83f1-4a07ddd87de4",
   "metadata": {
    "tags": []
   },
   "outputs": [
    {
     "data": {
      "text/plain": [
       "\u001b[0;31mSignature:\u001b[0m\n",
       "\u001b[0mOtter\u001b[0m\u001b[0;34m.\u001b[0m\u001b[0mquery\u001b[0m\u001b[0;34m(\u001b[0m\u001b[0;34m\u001b[0m\n",
       "\u001b[0;34m\u001b[0m    \u001b[0mself\u001b[0m\u001b[0;34m,\u001b[0m\u001b[0;34m\u001b[0m\n",
       "\u001b[0;34m\u001b[0m    \u001b[0mnames\u001b[0m\u001b[0;34m:\u001b[0m \u001b[0mlist\u001b[0m\u001b[0;34m[\u001b[0m\u001b[0mstr\u001b[0m\u001b[0;34m]\u001b[0m \u001b[0;34m=\u001b[0m \u001b[0;32mNone\u001b[0m\u001b[0;34m,\u001b[0m\u001b[0;34m\u001b[0m\n",
       "\u001b[0;34m\u001b[0m    \u001b[0mcoords\u001b[0m\u001b[0;34m:\u001b[0m \u001b[0mastropy\u001b[0m\u001b[0;34m.\u001b[0m\u001b[0mcoordinates\u001b[0m\u001b[0;34m.\u001b[0m\u001b[0msky_coordinate\u001b[0m\u001b[0;34m.\u001b[0m\u001b[0mSkyCoord\u001b[0m \u001b[0;34m=\u001b[0m \u001b[0;32mNone\u001b[0m\u001b[0;34m,\u001b[0m\u001b[0;34m\u001b[0m\n",
       "\u001b[0;34m\u001b[0m    \u001b[0mradius\u001b[0m\u001b[0;34m:\u001b[0m \u001b[0mfloat\u001b[0m \u001b[0;34m=\u001b[0m \u001b[0;36m0.05\u001b[0m\u001b[0;34m,\u001b[0m\u001b[0;34m\u001b[0m\n",
       "\u001b[0;34m\u001b[0m    \u001b[0mminZ\u001b[0m\u001b[0;34m:\u001b[0m \u001b[0mfloat\u001b[0m \u001b[0;34m=\u001b[0m \u001b[0;36m0\u001b[0m\u001b[0;34m,\u001b[0m\u001b[0;34m\u001b[0m\n",
       "\u001b[0;34m\u001b[0m    \u001b[0mmaxZ\u001b[0m\u001b[0;34m:\u001b[0m \u001b[0mfloat\u001b[0m \u001b[0;34m=\u001b[0m \u001b[0;32mNone\u001b[0m\u001b[0;34m,\u001b[0m\u001b[0;34m\u001b[0m\n",
       "\u001b[0;34m\u001b[0m    \u001b[0mrefs\u001b[0m\u001b[0;34m:\u001b[0m \u001b[0mlist\u001b[0m\u001b[0;34m[\u001b[0m\u001b[0mstr\u001b[0m\u001b[0;34m]\u001b[0m \u001b[0;34m=\u001b[0m \u001b[0;32mNone\u001b[0m\u001b[0;34m,\u001b[0m\u001b[0;34m\u001b[0m\n",
       "\u001b[0;34m\u001b[0m    \u001b[0mhasPhot\u001b[0m\u001b[0;34m:\u001b[0m \u001b[0mbool\u001b[0m \u001b[0;34m=\u001b[0m \u001b[0;32mFalse\u001b[0m\u001b[0;34m,\u001b[0m\u001b[0;34m\u001b[0m\n",
       "\u001b[0;34m\u001b[0m    \u001b[0mhasSpec\u001b[0m\u001b[0;34m:\u001b[0m \u001b[0mbool\u001b[0m \u001b[0;34m=\u001b[0m \u001b[0;32mFalse\u001b[0m\u001b[0;34m,\u001b[0m\u001b[0;34m\u001b[0m\n",
       "\u001b[0;34m\u001b[0m    \u001b[0mraw\u001b[0m\u001b[0;34m:\u001b[0m \u001b[0mbool\u001b[0m \u001b[0;34m=\u001b[0m \u001b[0;32mFalse\u001b[0m\u001b[0;34m,\u001b[0m\u001b[0;34m\u001b[0m\n",
       "\u001b[0;34m\u001b[0m\u001b[0;34m)\u001b[0m \u001b[0;34m->\u001b[0m \u001b[0mdict\u001b[0m\u001b[0;34m\u001b[0m\u001b[0;34m\u001b[0m\u001b[0m\n",
       "\u001b[0;31mDocstring:\u001b[0m\n",
       "Wraps on the super.AQLQuery and queries the OTTER database more intuitively.\n",
       "\n",
       "WARNING! This does not do any conversions for you! \n",
       "This is how it differs from the `getMeta` method. Users should prefer to use\n",
       "`getMeta`, `getPhot`, and `getSpec` independently because it is a better \n",
       "workflow and can return the data in an astropy table with everything in the\n",
       "same units.\n",
       "\n",
       "Args:\n",
       "    names [list[str]]: A list of names to get the metadata for\n",
       "    coords [SkyCoord]: An astropy SkyCoord object with coordinates to match to\n",
       "    radius [float]: The radius in arcseconds for a cone search, default is 0.05\"\n",
       "    minZ [float]: The minimum redshift to search for\n",
       "    maxZ [float]: The maximum redshift to search for\n",
       "    refs [list[str]]: A list of ads bibcodes to match to. Will only return \n",
       "                      metadata for transients that have this as a reference.\n",
       "    hasPhot [bool]: if True, only returns transients which have photometry.\n",
       "    hasSpec [bool]: if True, only return transients that have spectra.\n",
       "\n",
       "Return:\n",
       "   Get all of the raw (unconverted!) json data for objects that match the criteria. \n",
       "\u001b[0;31mFile:\u001b[0m      ~/otter/py/otter/otter.py\n",
       "\u001b[0;31mType:\u001b[0m      function"
      ]
     },
     "metadata": {},
     "output_type": "display_data"
    }
   ],
   "source": [
    "# General queries\n",
    "Otter.query?"
   ]
  },
  {
   "cell_type": "code",
   "execution_count": 16,
   "id": "d2a737e7-c433-4de3-9ba2-4d1144bb3a10",
   "metadata": {
    "tags": []
   },
   "outputs": [
    {
     "name": "stdout",
     "output_type": "stream",
     "text": [
      "2\n",
      "<class 'otter.transient.Transient'>\n"
     ]
    }
   ],
   "source": [
    "res = db.query(names=['ASASSN-15oi', 'AT2020opy'])\n",
    "print(len(res))\n",
    "print(type(res[0]))"
   ]
  },
  {
   "cell_type": "code",
   "execution_count": 17,
   "id": "5c1611dd-e9b0-4933-8e09-5d9590550134",
   "metadata": {
    "tags": []
   },
   "outputs": [
    {
     "data": {
      "text/plain": [
       "dict_keys(['_key', '_id', '_rev', 'schema_version', 'name', 'coordinate', 'distance', 'classification', 'reference_alias', 'epoch', 'photometry', 'filter_alias'])"
      ]
     },
     "execution_count": 17,
     "metadata": {},
     "output_type": "execute_result"
    }
   ],
   "source": [
    "res[0].keys()"
   ]
  },
  {
   "cell_type": "code",
   "execution_count": 18,
   "id": "ffa9885a-dcde-4b72-8cde-41eff0aaf23d",
   "metadata": {
    "tags": []
   },
   "outputs": [
    {
     "data": {
      "text/plain": [
       "{'_key': '3776907', '_id': 'tdes/3776907', '_rev': '_hD8NTy2---', 'schema_version': {'value': '0', 'comment': 'Original Dataset'}, 'name': {'default_name': 'ASASSN-15oi', 'alias': [{'value': 'ASASSN-15oi', 'reference': 'ASASSN'}]}, 'coordinate': {'equitorial': [{'ra': '20 39 09.096', 'dec': '-30 45 20.71', 'epoch': 'J2000', 'system': 'ICRS', 'ra_units': 'hourangle', 'dec_units': 'deg', 'reference': ['2021NatAs...5..491H'], 'computed': False, 'default': True, 'uuid': 'a06be641-1601-4737-9a1a-bd25c5dd61e6'}], 'galactic': [{'l': 13.01154485751856, 'b': -35.41877256185317, 'l_units': 'deg', 'b_units': 'deg', 'reference': 'a06be641-1601-4737-9a1a-bd25c5dd61e6', 'computed': True}]}, 'distance': {'redshift': [{'value': '0.0484', 'reference': ['2021NatAs...5..491H'], 'computed': False, 'default': True}]}, 'classification': [{'object_class': 'TDE', 'confidence': 1, 'reference': ['2021NatAs...5..491H'], 'default': True}], 'reference_alias': [{'name': '2021NatAs...5..491H', 'human_readable_name': 'Horesh et al. (2021)'}], 'epoch': {'date_discovery': [{'value': 57248.2, 'date_format': 'MJD', 'reference': ['2021NatAs...5..491H'], 'computed': False}]}, 'photometry': [{'reference': '2021NatAs...5..491H', 'raw': [0.033, 0.036, 0.06, 1.114, 0.899, 0.881, 0.824, 0.854, 0.617, 0.262, 8], 'raw_units': ['mJy', 'mJy', 'mJy', 'mJy', 'mJy', 'mJy', 'mJy', 'mJy', 'mJy', 'mJy', 'mJy'], 'date': [57256.2, 57271.2, 57338.2, 57430.2, 57438.2, 57445.2, 57481.2, 57531.2, 57617.2, 57824.2, 58665.2], 'date_format': ['MJD', 'MJD', 'MJD', 'MJD', 'MJD', 'MJD', 'MJD', 'MJD', 'MJD', 'MJD', 'MJD'], 'filter_key': ['6.1GHz', '6.1GHz', '6.1GHz', '4.8GHz', '4.8GHz', '5.5GHz', '5.5GHz', '5.0GHz', '5.0GHz', '5.0GHz', '3.0GHz'], 'computed': [False, False, False, False, False, False, False, False, False, False, False], 'obs_type': ['radio', 'radio', 'radio', 'radio', 'radio', 'radio', 'radio', 'radio', 'radio', 'radio', 'radio'], 'upperlimit': [True, True, True, False, False, False, False, False, False, False, False]}], 'filter_alias': [{'filter_key': '6.1GHz', 'freq_eff': 6.1, 'freq_units': 'GHz'}, {'filter_key': '4.8GHz', 'freq_eff': 4.8, 'freq_units': 'GHz'}, {'filter_key': '5.5GHz', 'freq_eff': 5.5, 'freq_units': 'GHz'}, {'filter_key': '5.0GHz', 'freq_eff': 5, 'freq_units': 'GHz'}, {'filter_key': '3.0GHz', 'freq_eff': 3, 'freq_units': 'GHz'}]}"
      ]
     },
     "execution_count": 18,
     "metadata": {},
     "output_type": "execute_result"
    }
   ],
   "source": [
    "# Notice how this is simply the raw results!!!\n",
    "\n",
    "res[0]"
   ]
  },
  {
   "cell_type": "markdown",
   "id": "afb223b4-536f-40ee-b66b-020dcea47b8c",
   "metadata": {},
   "source": [
    "# Some helpful methods"
   ]
  },
  {
   "cell_type": "code",
   "execution_count": 19,
   "id": "bcdbf938-f414-497f-943d-d1c4168feffb",
   "metadata": {
    "tags": []
   },
   "outputs": [
    {
     "data": {
      "text/plain": [
       "<SkyCoord (ICRS): (ra, dec) in deg\n",
       "    (309.7879, -30.75575278)>"
      ]
     },
     "execution_count": 19,
     "metadata": {},
     "output_type": "execute_result"
    }
   ],
   "source": [
    "# get the SkyCoord object for a transient\n",
    "\n",
    "skycoord = t1.getSkyCoord()\n",
    "skycoord"
   ]
  },
  {
   "cell_type": "code",
   "execution_count": 20,
   "id": "6ef75f65-63ed-4d8f-81d0-c7a2ddd99da5",
   "metadata": {
    "tags": []
   },
   "outputs": [
    {
     "data": {
      "text/plain": [
       "'<div>                        <script type=\"text/javascript\">window.PlotlyConfig = {MathJaxConfig: \\'l'"
      ]
     },
     "execution_count": 20,
     "metadata": {},
     "output_type": "execute_result"
    }
   ],
   "source": [
    "# get the html code for plotting the photometry for an object\n",
    "html = res[0].plotPhotometry()\n",
    "html[:100] # only show the first part of it"
   ]
  },
  {
   "cell_type": "markdown",
   "id": "c5178ab0-a9d7-4e91-bc19-c6d614c0aec5",
   "metadata": {},
   "source": [
    "# Uploading/Editing Data"
   ]
  },
  {
   "cell_type": "code",
   "execution_count": 21,
   "id": "0b9ba9f9-60db-4dc7-8283-dfee9309c0bd",
   "metadata": {
    "tags": []
   },
   "outputs": [
    {
     "ename": "IndexError",
     "evalue": "list index out of range",
     "output_type": "error",
     "traceback": [
      "\u001b[0;31m---------------------------------------------------------------------------\u001b[0m",
      "\u001b[0;31mIndexError\u001b[0m                                Traceback (most recent call last)",
      "Cell \u001b[0;32mIn[21], line 13\u001b[0m\n\u001b[1;32m     11\u001b[0m \u001b[38;5;66;03m# generate some test cases\u001b[39;00m\n\u001b[1;32m     12\u001b[0m db \u001b[38;5;241m=\u001b[39m Otter()\n\u001b[0;32m---> 13\u001b[0m t1 \u001b[38;5;241m=\u001b[39m db\u001b[38;5;241m.\u001b[39mquery(names\u001b[38;5;241m=\u001b[39m\u001b[38;5;124m'\u001b[39m\u001b[38;5;124m2022xkq\u001b[39m\u001b[38;5;124m'\u001b[39m)[\u001b[38;5;241m0\u001b[39m] \u001b[38;5;66;03m# \u001b[39;00m\n\u001b[1;32m     14\u001b[0m t2 \u001b[38;5;241m=\u001b[39m deepcopy(t1)\n\u001b[1;32m     15\u001b[0m \u001b[38;5;28mprint\u001b[39m(t1\u001b[38;5;241m.\u001b[39mkeys())\n",
      "\u001b[0;31mIndexError\u001b[0m: list index out of range"
     ]
    }
   ],
   "source": [
    "from otter import Otter, Transient\n",
    "from copy import deepcopy\n",
    "from collections import Counter\n",
    "import awkward as ak\n",
    "import warnings\n",
    "import numpy as np\n",
    "import re\n",
    "from astropy.coordinates import SkyCoord\n",
    "import json\n",
    "\n",
    "# generate some test cases\n",
    "db = Otter()\n",
    "t1 = db.query(names='2022xkq')[0] # \n",
    "t2 = deepcopy(t1)\n",
    "print(t1.keys())\n",
    "\n",
    "# change t2 for testing\n",
    "t2['name'] = {'default_name':'2022xkq',\n",
    "             'alias': [{'value':'foo', 'reference': 'x'},\n",
    "                      {'value': '2022xkq', 'reference': 'x'}]}\n",
    "t2['reference_alias'].append({'name': 'x',\n",
    "   'human_readable_name': 'test, name (year)'}) # add an extra value\n",
    "del t2['photometry']\n",
    "t2['for_test'] = {'test': 'bar'} # add a test key that isn't in t1\n",
    "t2['coordinate/equitorial'][0]['reference'] = 'noah'\n",
    "t2['filter_alias'].append({'filter_key': 'foo'})\n",
    "t2['schema_version/value'] = 100\n",
    "t2['epoch'] = {'date_peak': [{'value': 56983,\n",
    "    'date_format': 'MJD',\n",
    "    'reference': ['2016ApJ...819L..25A',\n",
    "     '2016Sci...351...62V',\n",
    "     '2016ApJ...832L..10R',\n",
    "     '2018MNRAS.475.4011B'],\n",
    "    'computed': False}],\n",
    "               \n",
    "               'date_discovery': [{'value': 56983,\n",
    "    'date_format': 'MJD',\n",
    "    'reference': ['2016ApJ...819L..25A',\n",
    "     '2016Sci...351...62V',\n",
    "     '2016ApJ...832L..10R',\n",
    "     '2018MNRAS.475.4011B'],\n",
    "    'computed': False}],\n",
    "               \n",
    "               \n",
    "              'date_discovery': [{'value': 56984,\n",
    "    'date_format': 'MJD',\n",
    "    'reference': ['2016ApJ...819L..25A',\n",
    "     '2016Sci...351...62V',\n",
    "     '2016ApJ...832L..10R',\n",
    "     '2018MNRAS.475.4011B'],\n",
    "    'computed': False}]\n",
    "              }\n",
    "\n",
    "t2['distance'] = {\n",
    "    \"redshift\": [\n",
    "      {\n",
    "        \"value\": \"0.0207\",\n",
    "        \"reference\": [\n",
    "          \"Noah\"\n",
    "        ],\n",
    "        \"computed\": False\n",
    "      },\n",
    "        {\n",
    "        \"value\": \"0.02\",\n",
    "        \"reference\": [\n",
    "          \"Noah\"\n",
    "        ],\n",
    "        \"computed\": False\n",
    "      }\n",
    "    ],\n",
    "    \n",
    "    \"dispersion_measure\": [\n",
    "      {\n",
    "        \"value\": \"0.0206\",\n",
    "        \"reference\": [\n",
    "          \"Noah\"\n",
    "        ],\n",
    "        \"computed\": False\n",
    "      }\n",
    "    ]\n",
    "  }\n",
    "  \n",
    "t2['classification'] = [{'object_class':'SN',\n",
    "                        'confidence': 1,\n",
    "                         'reference': 'Noah'\n",
    "                        }]\n",
    "    \n",
    "t2['photometry'] = {'phot_0': {'telescope': 'Noahs Telescope',\n",
    "                               'reference': 'Noah',\n",
    "                               'flux': [{'filter': 'z',\n",
    "                                 'telescope': 'Noahs Telescope',\n",
    "                                 'upperlimit': True,\n",
    "                                 'date': 59864.4914116667,\n",
    "                                 'date_format': 'MJD',\n",
    "                                 'raw': 20.01,\n",
    "                                 'raw_units': 'mag(AB)',\n",
    "                                 'filter_key': 'NoahsTelescope.z',\n",
    "                                 'obs_type': 'uvoir'}]},\n",
    "                    'phot_1': {'telescope': 'CAHA',\n",
    "                               'reference': 'Noah',\n",
    "                               'flux': [{'filter': 'H',\n",
    "                                 'telescope': 'CAHA',\n",
    "                                 'upperlimit': False,\n",
    "                                 'date': 59898.12077,\n",
    "                                 'date_format': 'MJD',\n",
    "                                 'raw': 14.87048,\n",
    "                                 'raw_err': 0.0187,\n",
    "                                 'raw_units': 'mag(AB)',\n",
    "                                 'filter_key': 'CAHA.H',\n",
    "                                 'obs_type': 'uvoir'}]}\n",
    "            \n",
    "                               }"
   ]
  },
  {
   "cell_type": "code",
   "execution_count": null,
   "id": "4ace388c-7664-40ed-b326-76fdc32adea7",
   "metadata": {
    "tags": []
   },
   "outputs": [],
   "source": [
    "db = Otter(username='admin@otter', password='insecure')\n",
    "#db.upload(t2)"
   ]
  },
  {
   "cell_type": "code",
   "execution_count": null,
   "id": "f484313e-091c-4183-88f9-37f6c83fcf62",
   "metadata": {},
   "outputs": [],
   "source": []
  }
 ],
 "metadata": {
  "kernelspec": {
   "display_name": "Python 3 (ipykernel)",
   "language": "python",
   "name": "python3"
  },
  "language_info": {
   "codemirror_mode": {
    "name": "ipython",
    "version": 3
   },
   "file_extension": ".py",
   "mimetype": "text/x-python",
   "name": "python",
   "nbconvert_exporter": "python",
   "pygments_lexer": "ipython3",
   "version": "3.11.4"
  }
 },
 "nbformat": 4,
 "nbformat_minor": 5
}
